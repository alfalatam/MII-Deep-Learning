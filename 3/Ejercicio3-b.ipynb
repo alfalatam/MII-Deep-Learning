{
 "cells": [
  {
   "cell_type": "markdown",
   "metadata": {},
   "source": [
    "# Ejercicio 3 b. Traducción Automática de Texto\n",
    "\n",
    "Este ejercicio tiene como objetivo entrenar un modelo para traducción automática de texto (neural machine translation) del inglés a español. Para ello, haremos uso de redes recurrentes y word embeddings. \n",
    "\n",
    "![neural machine translation](img/nmt.png)"
   ]
  },
  {
   "cell_type": "markdown",
   "metadata": {},
   "source": [
    "## 1. Enunciado\n",
    "\n",
    "La traducción de texto se suele realizar con modelos de tipo sequence-to-sequence, donde existe un *encoder* que codifica el lenguaje de entrada, y un *decoder* que genera el texto en el lenguaje de salida. Actualmente esto se realiza empleando redes con auto-atención (transformers), pero para este ejercicio vamos a implementar una red recurrente clásica. \n",
    "\n",
    "La implementación del modelo recurrente la puedes realizar basándote en los ejemplos:\n",
    "1. [Modelo sequence-to-sequence a nivel de caracteres con LSTM](https://keras.io/examples/nlp/lstm_seq2seq/): Este ejemplo de Keras muestra cómo entrenar un modelo seq-to-seq implementado con LSTMs para la traducción de inglés a francés. Está basado en esta antigua entrada del [blog de Keras](https://blog.keras.io/a-ten-minute-introduction-to-sequence-to-sequence-learning-in-keras.html), donde también se dan las pistas para trabajar a nivel de palabras.\n",
    "2. [Traducción de inglés a español con un transformer](https://keras.io/examples/nlp/neural_machine_translation_with_transformer/): Este ejemplo de Keras muestra como implementar un modelo seq-to-seq de tipo transformer en Keras, y cómo procesar el dataset de traducción de inglés al español con la capa `TextVectorization`.\n",
    "3. [Traducción automática neuronal usando un modelo seq2seq a nivel de palabra](https://medium.com/@dev.elect.iitd/neural-machine-translation-using-word-level-seq2seq-model-47538cba8cd7): Este proyecto, cuyo código está disponible en este [repositorio de github](https://github.com/devm2024/nmt_keras), trabaja con un modelo seq-to-seq usando como tokens las palabras de las frases, para la traducción del inglés al francés. Incluye una capa de embedding vacía.\n",
    "\n",
    "Tu trabajo consistirá en adaptar el código de los ejemplos anteriores para entrenar un modelo seq-to-seq basado en LSTMs para la traducción del inglés a español. Puedes tokenizar el texto con `Tokenizer` así como con `TextVectorization`, según te convenga mejor para construir las entradas. Sin embargo, debes utilizar una capa de word embedding pre-entrenada para inglés (Glove, Word2Vec...), como vimos en las prácticas. Es suficiente con entrenar tan solo un modelo de estas características.\n",
    "\n",
    "*De forma opcional*, se valorará la comparativa del modelo obtenido con un modelo pre-entrenado de HuggingFace para la traducción de inglés al español con el dataset descargado. También se dará un punto extra se si usan métricas BLEU y ROUGE para comparar el rendimiento de los modelos.\n",
    "\n",
    "**IMPORTANTE**: Se permiten cambios en el código para adaptarlo a la GPU empleada. Es posible que el modelo no se pueda cargar al completo en la GPU, por lo que se puede simplificar (usar un subconjunto más pequeño, un tamaño de batch más pequeño, etc.)"
   ]
  },
  {
   "cell_type": "markdown",
   "metadata": {},
   "source": [
    "## 2. Entrega\n",
    "\n",
    "La entrega de este ejercicio se realiza a través de la tarea creada para tal efecto en Enseñanza Virtual. Tienes que entregar un notebook, y el HTML generado a partir de él, cuyas celdas estén ya evaluadas.\n",
    "\n",
    "La estructura del notebook debe contener los siguientes apartados:\n",
    "\n",
    "0. Cabecera: nombre y apellidos.\n",
    "1. Dataset: descripción, carga y procesado.\n",
    "2. Selección y carga del word embedding para el inglés.\n",
    "3. Modelo y configuración creadas en Keras y su entrenamiento. Debe incluir una explicación razonada de los componentes, y de la selección de valores como el número de unidades en las redes recurrentes (LSTM/GRU), dimensión del embedding, etc.\n",
    "5. Análisis de resultados con comparativa respecto del trabajo original ([ejemplo 2](https://keras.io/examples/nlp/neural_machine_translation_with_transformer/)) basado en transformers (*no es necesario mejorarlo*). Si se hace la parte opcional (comparar con un modelo pre-entrenado de HuggingFace), indicar la comparativa. El análisis puede ser cualitativo, haciendo pruebas de texto. *Se evaluará con 1 punto extra si se hace un análisis con métricas como BLEU y ROUGE (se pueden usar desde KerasNLP).*\n",
    "6. Bibliografía utilizada (enlaces web, material de clase, libros, etc.)."
   ]
  },
  {
   "cell_type": "markdown",
   "metadata": {},
   "source": [
    "### 2.1. Nota importante\n",
    "-----\n",
    "**HONESTIDAD ACADÉMICA Y COPIAS: un trabajo práctico es un examen, por lo que\n",
    "debe realizarse de manera individual. La discusión y el intercambio de\n",
    "información de carácter general con los compañeros se permite (e incluso se\n",
    "recomienda), pero NO AL NIVEL DE CÓDIGO. Igualmente el remitir código de\n",
    "terceros, OBTENIDO A TRAVÉS DE LA RED o cualquier otro medio, se considerará\n",
    "plagio.** \n",
    "\n",
    "**Cualquier plagio o compartición de código que se detecte significará\n",
    "automáticamente la calificación de CERO EN LA ASIGNATURA para TODOS los\n",
    "alumnos involucrados. Por tanto a estos alumnos NO se les conservará, para\n",
    "futuras convocatorias, ninguna nota que hubiesen obtenido hasta el momento.\n",
    "SIN PERJUICIO DE OTRAS MEDIDAS DE CARÁCTER DISCIPLINARIO QUE SE PUDIERAN\n",
    "TOMAR.**\n",
    "\n",
    "-----\n",
    "\n",
    "## 3. Código para iniciarse\n",
    "\n",
    "En el [ejemplo 2](https://keras.io/examples/nlp/neural_machine_translation_with_transformer/) indicado anteriormente, se puede ver cómo descargar y procesar un dataset de traducción del inglés al español. Abajo se deja igualmente la celda para descargar y cargar el dataset (se puede evaluar las veces que haga falta, ya que se descarga tan solo una vez, y se almacena en el directorio $HOME/.keras)."
   ]
  },
  {
   "cell_type": "code",
   "execution_count": 1,
   "metadata": {},
   "outputs": [
    {
     "name": "stdout",
     "output_type": "stream",
     "text": [
      "WARNING:tensorflow:From C:\\Users\\alarc\\anaconda3\\Lib\\site-packages\\keras\\src\\losses.py:2976: The name tf.losses.sparse_softmax_cross_entropy is deprecated. Please use tf.compat.v1.losses.sparse_softmax_cross_entropy instead.\n",
      "\n"
     ]
    }
   ],
   "source": [
    "from tensorflow import keras\n",
    "import pathlib\n",
    "\n",
    "text_file = keras.utils.get_file(\n",
    "    fname=\"spa-eng.zip\",\n",
    "    origin=\"http://storage.googleapis.com/download.tensorflow.org/data/spa-eng.zip\",\n",
    "    extract=True,\n",
    ")\n",
    "text_file = pathlib.Path(text_file).parent / \"spa-eng\" / \"spa.txt\""
   ]
  },
  {
   "cell_type": "markdown",
   "metadata": {},
   "source": [
    "El dataset viene en el siguiente formato: cada línea del fichero es una frase en inglés seguida por la correspondiente en español, separados por un tabulador. La siguiente celda separa cada frase en cada idioma, y además al español (idioma destino) le añade los tokens [start] y [end], necesarios para controlar la generación de la salida."
   ]
  },
  {
   "cell_type": "code",
   "execution_count": 2,
   "metadata": {},
   "outputs": [],
   "source": [
    "from pathlib import Path\n",
    "import random\n",
    "text_file = Path(text_file)\n",
    "\n",
    "with open(text_file, 'r', encoding='utf-8') as f:\n",
    "    lines = f.read().split(\"\\n\")[:-1]\n",
    "\n",
    "    text_pairs = []\n",
    "for line in lines:\n",
    "    eng, spa = line.split(\"\\t\")\n",
    "    spa = \"[start] \" + spa + \" [end]\"\n",
    "    text_pairs.append((eng, spa))"
   ]
  },
  {
   "cell_type": "code",
   "execution_count": 3,
   "metadata": {},
   "outputs": [
    {
     "name": "stdout",
     "output_type": "stream",
     "text": [
      "(\"My driver's license expires at the end of this month.\", '[start] Mi licencia de conducir expira a final de este mes. [end]')\n",
      "(\"I'm dependable.\", '[start] Soy confiable. [end]')\n",
      "('She kept quiet.', '[start] Ella se quedó quieta. [end]')\n",
      "('Tom wanted to meet you.', '[start] Tom quería conocerle. [end]')\n",
      "('The glass shattered into pieces.', '[start] El vidrio se hizo trizas. [end]')\n"
     ]
    }
   ],
   "source": [
    "for _ in range(5):\n",
    "    print(random.choice(text_pairs))"
   ]
  },
  {
   "cell_type": "code",
   "execution_count": 4,
   "metadata": {},
   "outputs": [
    {
     "name": "stdout",
     "output_type": "stream",
     "text": [
      "118964 total pairs\n",
      "83276 training pairs\n",
      "17844 validation pairs\n",
      "17844 test pairs\n"
     ]
    }
   ],
   "source": [
    "# Este código separa el conjunto de entrenamiento en train, val y test\n",
    "random.shuffle(text_pairs)\n",
    "num_val_samples = int(0.15 * len(text_pairs))\n",
    "num_train_samples = len(text_pairs) - 2 * num_val_samples\n",
    "train_pairs = text_pairs[:num_train_samples]\n",
    "val_pairs = text_pairs[num_train_samples : num_train_samples + num_val_samples]\n",
    "test_pairs = text_pairs[num_train_samples + num_val_samples :]\n",
    "\n",
    "print(f\"{len(text_pairs)} total pairs\")\n",
    "print(f\"{len(train_pairs)} training pairs\")\n",
    "print(f\"{len(val_pairs)} validation pairs\")\n",
    "print(f\"{len(test_pairs)} test pairs\")"
   ]
  },
  {
   "cell_type": "code",
   "execution_count": 5,
   "metadata": {},
   "outputs": [
    {
     "name": "stdout",
     "output_type": "stream",
     "text": [
      "(\"I'm not sure I believe you.\", '[start] No estoy seguro de que te crea. [end]')\n"
     ]
    }
   ],
   "source": [
    "print(train_pairs[0])"
   ]
  },
  {
   "cell_type": "markdown",
   "metadata": {},
   "source": [
    "## 4. Modelos tipo seq-to-seq con Teacher Forcing\n",
    "\n",
    "Un modelo de tipo sequence-to-sequence (seq-to-seq, o simplemente, seq2seq), se caracterizan porque reciben como entrada secuencias (texto) y generan como salida otra secuencia (texto). En nuestro caso la entrada será una frase en inglés y la salida será la frase en español.\n",
    "\n",
    "Estos modelos se caracterizan porque están divididos en dos partes: un *encoder* y un *decoder*. Estos dos modelos se componen de la siguiente forma para conformar el modelo seq2seq (también conocido como *teacher forcing*):\n",
    "\n",
    "![neural machine translation](img/seq2seq-teacher-forcing.png)\n",
    "\n",
    "\n",
    "* El **encoder**:\n",
    "  * **Recibe** la *secuencia de entrada* (frase en inglés). Cada token será una palabra, y se usará su representación con un word embedding pre-entrenado (Glove, Word2vec, FastText ...).\n",
    "  * **Devuelve** el *estado oculto* de la última neurona de la red recurrente, que sirve como continuación para el decoder. Si es una LSTM, será el último hidden state y el cell state.\n",
    "* El **decoder**:\n",
    "  * **Recibe**:\n",
    "    * El *último estado oculto (hidden state, cell state)* generado en el encoder.\n",
    "    * La *secuencia de salida*, incluyendo el [start]. \n",
    "  * **Devuelve** la secuencia de salida desplazada en 1 posición. Si la frase original es \"[start] Hablé con Tom [end]\", la salida será \"Hablé con Tom [end]\".\n",
    "  \n",
    "La configuración del decoder es así porque se empleará en tiempo de inferencia de forma *auto-regresiva*; es decir: empezamos con tan solo \"[start]\", y el decoder generará la siguiente palabra (por ejemplo, \"hablé\"); esta palabra se concatena a la solución parcial, teniendo \"[start] hablé\"; se repite el proceso, le damos al decoder esa solución parcial y dará la siguiente palabra (por ejemplo, \"con\"), y la añadimos a la solución parcial \"[start] hablé con\", y así hasta alcanzar el token [end]. \n",
    "  \n",
    "Recuerda que la salida del modelo indicará en formato one-hot cual es la siguiente palabra. Las entradas (del encoder y del decoder) serán las secuencias de los tokens en formato one-hot (que después pasarán por la correspondiente capa de embedding, siendo para el inglés un embedding pre-entrenado).\n"
   ]
  },
  {
   "cell_type": "markdown",
   "metadata": {},
   "source": [
    "# <center> Cabecera: nombre y apellidos. </center>"
   ]
  },
  {
   "cell_type": "markdown",
   "metadata": {},
   "source": [
    "## Alfonso Alarcón Tamayo"
   ]
  },
  {
   "cell_type": "markdown",
   "metadata": {},
   "source": [
    "# <center> Dataset: descripción, carga y procesado. </center>"
   ]
  },
  {
   "cell_type": "markdown",
   "metadata": {},
   "source": [
    "El conjunto que vamos a trabajar es un conjunto de frases en ingles seguidas de su traducción de español,vamos a cargar los datos , tokemizarlos y ver la frecuencia de estos."
   ]
  },
  {
   "cell_type": "code",
   "execution_count": 6,
   "metadata": {},
   "outputs": [],
   "source": [
    "import os\n",
    "os.environ[\"KERAS_BACKEND\"] = \"tensorflow\"\n",
    "\n",
    "import string\n",
    "import re\n",
    "import numpy as np\n",
    "import pathlib\n",
    "import random\n",
    "\n",
    "\n",
    "import tensorflow.data as tf_data\n",
    "import tensorflow.strings as tf_strings\n",
    "\n",
    "import keras\n",
    "from keras import layers\n",
    "from keras.layers import TextVectorization\n",
    "from keras.layers import Input, LSTM, Embedding, Dense\n",
    "from keras.models import Model\n",
    "from keras.utils import plot_model\n",
    "\n",
    "from keras.models import Model\n",
    "from keras.layers import Embedding\n",
    "from keras.utils import plot_model\n",
    "from keras.layers import Input, LSTM, Embedding, Dense"
   ]
  },
  {
   "cell_type": "markdown",
   "metadata": {},
   "source": [
    "Antes de hacer la vectorización vamos a comprobar el número de palabras medio de las frases llamando a lines (lines es una combinacion de la palabra en inglés seguida de la de español) así que el resultado debe ser aproximadamente la mitad\n",
    "\n",
    "\n",
    "En este caso podemos ver que el valor de las frases son unas 40 palabras por lo que cada frase tendra aproximadamente 20 palabras, así que vamos a definir la longitud máxima de las frases en 20, si es menor se hará padding para rellenar y si es mayor se recortará. Esto lo hago sobretodo por la falta de capacidad computacional y para no tardar demasiado tiempo en entrenar mi modelo"
   ]
  },
  {
   "cell_type": "code",
   "execution_count": 7,
   "metadata": {},
   "outputs": [
    {
     "data": {
      "image/png": "[encoded data removed]",
      "text/plain": [
       "<Figure size 640x480 with 1 Axes>"
      ]
     },
     "metadata": {},
     "output_type": "display_data"
    }
   ],
   "source": [
    "import matplotlib.pyplot as plt\n",
    "\n",
    "sequence = [len(seq) for seq in lines]\n",
    "\n",
    "# Mostramos los datos\n",
    "plt.hist(sequence, bins=30)\n",
    "plt.xlabel('Longitud de las frases(x2)')\n",
    "plt.ylabel('Frecuencia')\n",
    "\n",
    "plt.show()"
   ]
  },
  {
   "cell_type": "markdown",
   "metadata": {},
   "source": [
    "Ahora toca vectorizar, para este apartado vamos a usar el mismo método que en el ejemplo 2 ya que hasta este punto es igual para nuestro trabajo\n",
    "\n",
    "En primer lugar se han definido los caracteres a eliminar, los corchetes y el caracter \"¿\" que se encuentra solo en el idioma español\n",
    "\n",
    "El método de custom_standardization sirve para pasar a minúsculas todos los elementos y reemplazar los caracteres de strip_chars (comas, signos de interrogación...)\n",
    "\n",
    "Después se ha definido el vocabulario máximo (que es el mismo que he definido para el word embedding ,10000 palabras), el tamaño de la secuencia , que he comentado anteriormente el porque de este valor y el batch_size que lo he reducido a 32 para usar lotes más pequeños\n",
    "\n",
    "Después hemos llamado a TextVectorizacion que es un método de keras que sirve para convertir secuencias de texto en secuencias de enteros\n",
    "\n",
    "\n",
    "Finalmente generamos listas para cada valor y con el método adapt la usamos para que las capas  \"aprenda\" del conjunto de textos proporcionados."
   ]
  },
  {
   "cell_type": "code",
   "execution_count": 8,
   "metadata": {},
   "outputs": [
    {
     "name": "stdout",
     "output_type": "stream",
     "text": [
      "WARNING:tensorflow:From C:\\Users\\alarc\\anaconda3\\Lib\\site-packages\\keras\\src\\backend.py:873: The name tf.get_default_graph is deprecated. Please use tf.compat.v1.get_default_graph instead.\n",
      "\n",
      "WARNING:tensorflow:From C:\\Users\\alarc\\anaconda3\\Lib\\site-packages\\keras\\src\\utils\\tf_utils.py:492: The name tf.ragged.RaggedTensorValue is deprecated. Please use tf.compat.v1.ragged.RaggedTensorValue instead.\n",
      "\n"
     ]
    }
   ],
   "source": [
    "strip_chars = string.punctuation + \"¿\"\n",
    "strip_chars = strip_chars.replace(\"[\", \"\")\n",
    "strip_chars = strip_chars.replace(\"]\", \"\")\n",
    "\n",
    "def custom_standardization(input_string):\n",
    "    lowercase = tf_strings.lower(input_string)\n",
    "    return tf_strings.regex_replace(lowercase, \"[%s]\" % re.escape(strip_chars), \"\")\n",
    "\n",
    "vocab_size = 10000\n",
    "sequence_length = 20\n",
    "batch_size = 32\n",
    "\n",
    "eng_vectorization = TextVectorization(max_tokens=vocab_size,output_mode=\"int\",output_sequence_length=sequence_length,)\n",
    "\n",
    "spa_vectorization = TextVectorization(max_tokens=vocab_size,output_mode=\"int\",output_sequence_length=sequence_length + 1,standardize=custom_standardization,)\n",
    "\n",
    "\n",
    "train_eng_texts = [pair[0] for pair in train_pairs]\n",
    "train_spa_texts = [pair[1] for pair in train_pairs]\n",
    "eng_vectorization.adapt(train_eng_texts)\n",
    "spa_vectorization.adapt(train_spa_texts)"
   ]
  },
  {
   "cell_type": "markdown",
   "metadata": {},
   "source": [
    "Vamos a comprobar que la vectorizacion se ha realizado correctamente"
   ]
  },
  {
   "cell_type": "code",
   "execution_count": 9,
   "metadata": {},
   "outputs": [
    {
     "name": "stdout",
     "output_type": "stream",
     "text": [
      "Texto : I'm not sure I believe you.\n",
      "Tokens: [ 34  33 232   3 220   5   0   0   0   0   0   0   0   0   0   0   0   0\n",
      "   0   0]\n"
     ]
    }
   ],
   "source": [
    "import tensorflow as tf\n",
    "\n",
    "# Tomar la primera frase de train_eng_texts\n",
    "first_eng_text = train_eng_texts[0]\n",
    "\n",
    "# Vectorizamos la primera frase del conjunto\n",
    "vectorized_text_eng = eng_vectorization(tf.constant([first_eng_text]))\n",
    "\n",
    "# Mostramos el resultado obtenido\n",
    "print(f\"Texto : {first_eng_text}\")\n",
    "print(f\"Tokens: {vectorized_text_eng.numpy()[0]}\")"
   ]
  },
  {
   "cell_type": "code",
   "execution_count": 10,
   "metadata": {},
   "outputs": [
    {
     "name": "stdout",
     "output_type": "stream",
     "text": [
      "Texto : [start] No estoy seguro de que te crea. [end]\n",
      "Tokens: [   2    7   37  208    4    5   28 6047    3    0    0    0    0    0\n",
      "    0    0    0    0    0    0    0]\n"
     ]
    }
   ],
   "source": [
    "# Tomar la primera frase de train español\n",
    "first_spa_text = train_spa_texts[0]\n",
    "\n",
    "# la vectorizamos\n",
    "vectorized_text_spa = spa_vectorization(tf.constant([first_spa_text]))\n",
    "\n",
    "# Mostramos el resultado obtenido\n",
    "print(f\"Texto : {first_spa_text}\")\n",
    "print(f\"Tokens: {vectorized_text_spa.numpy()[0]}\")"
   ]
  },
  {
   "cell_type": "markdown",
   "metadata": {},
   "source": [
    "# <center> Selección y carga del word embedding para el inglés. </center>"
   ]
  },
  {
   "cell_type": "markdown",
   "metadata": {},
   "source": [
    "Aqui lo que vamos a hacer ahora es cargar ya un modelo preentrenado para aprovecharnos de este, más concretamente usaremos glove, para cargar estos datos tenemos que descargar y descomprimir los archivos (en mi caso) en la carpeta de este proyecto"
   ]
  },
  {
   "cell_type": "code",
   "execution_count": 11,
   "metadata": {},
   "outputs": [],
   "source": [
    "import numpy as np\n",
    "glove_dir = 'glove.6B'\n",
    "\n",
    "# El archivo esta en el mismo directorio\n",
    "glove_path = 'glove.6B.100d.txt'"
   ]
  },
  {
   "cell_type": "markdown",
   "metadata": {},
   "source": [
    "Ahora cargamos los vectores de glove y los incializamos, recorremos cada linea para obtener su palabra y su vector, y lo almacenamos en un diccionario embedding_index. Teniendo así por una parte la palabra y por otra como valores los coeficientes de esta."
   ]
  },
  {
   "cell_type": "code",
   "execution_count": 12,
   "metadata": {},
   "outputs": [],
   "source": [
    "import numpy as np\n",
    "\n",
    "embedding_index = {}\n",
    "with open(glove_path, 'r', encoding='utf-8') as f:\n",
    "    for line in f:\n",
    "        values = line.split()\n",
    "        word = values[0]\n",
    "        coefs = np.asarray(values[1:], dtype='float32')\n",
    "        embedding_index[word] = coefs"
   ]
  },
  {
   "cell_type": "markdown",
   "metadata": {},
   "source": [
    "Ahora lo que vamos a hacer es crear la matrix que le vamos a cargar a la capa de inmersion, el tamaño de esta será de Max_words que son 10000 en nuestro caso y el embedim_dim que es 100, el vocabulario será el que hemos obtenido en eng_vectorization"
   ]
  },
  {
   "cell_type": "code",
   "execution_count": 13,
   "metadata": {},
   "outputs": [],
   "source": [
    "embedding_dim = 100\n",
    "embedding_matrix = np.zeros((10000, embedding_dim))\n",
    "\n",
    "for i, word in enumerate(eng_vectorization.get_vocabulary()):\n",
    "    if i < vocab_size:\n",
    "        embedding_vector = embedding_index.get(word)\n",
    "        if embedding_vector is not None:\n",
    "            embedding_matrix[i] = embedding_vector"
   ]
  },
  {
   "cell_type": "markdown",
   "metadata": {},
   "source": [
    "Al crear el modelo tenemos que pasarle una capa embedding con el aprendizaje , abajo he especificado como quedaría al añadirla  al modelo "
   ]
  },
  {
   "cell_type": "code",
   "execution_count": 14,
   "metadata": {
    "scrolled": true
   },
   "outputs": [],
   "source": [
    "# Capa de embedding con GloVe\n",
    "glove_layer = Embedding(\n",
    "    input_dim=vocab_size,  # tamaño del vocabulario =10000\n",
    "    output_dim=embedding_dim,  # Dimensión del embedding = 100\n",
    "    weights=[embedding_matrix],  # Pesos de la matriz definido anteriormente\n",
    "    input_length=sequence_length,  # Longitud de la secuencias = 20\n",
    "    trainable=False  # No queremos que se actualicen los pesos\n",
    ")"
   ]
  },
  {
   "cell_type": "markdown",
   "metadata": {},
   "source": [
    "# <center> Modelo y configuración creadas en Keras y su entrenamiento. Debe incluir una explicación razonada de los componentes, y de la selección de valores como el número de unidades en las redes recurrentes (LSTM/GRU), dimensión del embedding, etc. </center>"
   ]
  },
  {
   "cell_type": "markdown",
   "metadata": {},
   "source": [
    "Para crear el modelo el caso más parecido es el del ejemplo 3 y también podemos ver el ejemplo 2, para ello vamos a tratar de adaptar el método para nuestros datos y para nuestro traductor inglés-español ya que en el ejemplo es del francés al inglés y no usa embedding mientrás que nosotros hemos definido una capa con los datos extraidos de glove"
   ]
  },
  {
   "cell_type": "code",
   "execution_count": 15,
   "metadata": {},
   "outputs": [],
   "source": [
    "from tensorflow.keras.models import Model\n",
    "from tensorflow.keras.layers import Input, Embedding, LSTM, Dense\n",
    "from tensorflow.keras.models import Sequential\n",
    "from tensorflow.keras.layers import Embedding, LSTM, Dense, Flatten\n",
    "\n",
    "# FIX mirar ejemplo 2 y 3\n",
    "model = Sequential()\n",
    "\n",
    "# Capa de Embedding\n",
    "model.add(Embedding(\n",
    "    input_dim=vocab_size,  # tamaño del vocabulario =10000\n",
    "    output_dim=embedding_dim,  # Dimensión del embedding = 100\n",
    "    weights=[embedding_matrix],  # Pesos de la matriz definido anteriormente\n",
    "    input_length=sequence_length,  # Longitud de la secuencias = 20\n",
    "    trainable=False  # No queremos que se actualicen los pesos\n",
    "))\n",
    "\n",
    "model.add(LSTM(50, return_sequences=True))  \n",
    "model.add(LSTM(50)) \n",
    "model.add(Flatten())\n",
    "model.add(Dense(32, activation='relu'))\n",
    "# La última capa deberíia tener el num_decoder_tokens\n",
    "model.add(Dense(1, activation='softmax'))\n"
   ]
  },
  {
   "cell_type": "code",
   "execution_count": 16,
   "metadata": {
    "scrolled": true
   },
   "outputs": [
    {
     "name": "stdout",
     "output_type": "stream",
     "text": [
      "WARNING:tensorflow:From C:\\Users\\alarc\\anaconda3\\Lib\\site-packages\\keras\\src\\optimizers\\__init__.py:309: The name tf.train.Optimizer is deprecated. Please use tf.compat.v1.train.Optimizer instead.\n",
      "\n",
      "Model: \"sequential\"\n",
      "_________________________________________________________________\n",
      " Layer (type)                Output Shape              Param #   \n",
      "=================================================================\n",
      " embedding_1 (Embedding)     (None, 20, 100)           1000000   \n",
      "                                                                 \n",
      " lstm (LSTM)                 (None, 20, 50)            30200     \n",
      "                                                                 \n",
      " lstm_1 (LSTM)               (None, 50)                20200     \n",
      "                                                                 \n",
      " flatten (Flatten)           (None, 50)                0         \n",
      "                                                                 \n",
      " dense (Dense)               (None, 32)                1632      \n",
      "                                                                 \n",
      " dense_1 (Dense)             (None, 1)                 33        \n",
      "                                                                 \n",
      "=================================================================\n",
      "Total params: 1052065 (4.01 MB)\n",
      "Trainable params: 52065 (203.38 KB)\n",
      "Non-trainable params: 1000000 (3.81 MB)\n",
      "_________________________________________________________________\n"
     ]
    }
   ],
   "source": [
    "# Compilamos\n",
    "model.compile(optimizer='rmsprop', loss='categorical_crossentropy', metrics=['acc'])\n",
    "\n",
    "# Mostramos el modelo\n",
    "model.summary()"
   ]
  },
  {
   "cell_type": "code",
   "execution_count": null,
   "metadata": {},
   "outputs": [],
   "source": []
  },
  {
   "cell_type": "markdown",
   "metadata": {},
   "source": [
    "# <center> Análisis de resultados con comparativa respecto del trabajo original (ejemplo 2) basado en transformers (no es necesario mejorarlo). Si se hace la parte opcional (comparar con un modelo pre-entrenado de HuggingFace), indicar la comparativa. El análisis puede ser cualitativo, haciendo pruebas de texto. Se evaluará con 1 punto extra si se hace un análisis con métricas como BLEU y ROUGE (se pueden usar desde KerasNLP). </center>"
   ]
  },
  {
   "cell_type": "code",
   "execution_count": null,
   "metadata": {},
   "outputs": [],
   "source": []
  },
  {
   "cell_type": "code",
   "execution_count": null,
   "metadata": {},
   "outputs": [],
   "source": []
  },
  {
   "cell_type": "markdown",
   "metadata": {},
   "source": [
    "# <center> Bibliografía utilizada (enlaces web, material de clase, libros, etc.). </center>"
   ]
  },
  {
   "cell_type": "markdown",
   "metadata": {},
   "source": [
    "https://keras.io/examples/nlp/neural_machine_translation_with_transformer/\n",
    "    \n",
    "https://medium.com/@dev.elect.iitd/neural-machine-translation-using-word-level-seq2seq-model-47538cba8cd7\n",
    "\n",
    "https://keras.io/examples/nlp/lstm_seq2seq/"
   ]
  }
 ],
 "metadata": {
  "kernelspec": {
   "display_name": "Python 3 (ipykernel)",
   "language": "python",
   "name": "python3"
  },
  "language_info": {
   "codemirror_mode": {
    "name": "ipython",
    "version": 3
   },
   "file_extension": ".py",
   "mimetype": "text/x-python",
   "name": "python",
   "nbconvert_exporter": "python",
   "pygments_lexer": "ipython3",
   "version": "3.11.5"
  }
 },
 "nbformat": 4,
 "nbformat_minor": 2
}
